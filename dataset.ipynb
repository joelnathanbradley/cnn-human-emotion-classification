{
 "cells": [
  {
   "cell_type": "code",
   "execution_count": 1,
   "metadata": {},
   "outputs": [],
   "source": [
    "import cv2\n",
    "import os\n",
    "import numpy as np\n",
    "from random import shuffle"
   ]
  },
  {
   "cell_type": "code",
   "execution_count": 2,
   "metadata": {},
   "outputs": [],
   "source": [
    "def label_img(file):\n",
    "    # this labels images based off of file name, and only grabs images that are front facing\n",
    "    if (file[4:6] == 'AF') and (file[6] == 'S'): return [1,0,0,0,0,0,0] # afraid\n",
    "    elif (file[4:6] == 'AN') and (file[6] == 'S'): return [0,1,0,0,0,0,0] # angry\n",
    "    elif (file[4:6] == 'DI') and (file[6] == 'S'): return [0,0,1,0,0,0,0] # disgusted\n",
    "    elif (file[4:6] == 'HA') and (file[6] == 'S'): return [0,0,0,1,0,0,0] # happy\n",
    "    elif (file[4:6] == 'NE') and (file[6] == 'S'): return [0,0,0,0,1,0,0] # neutral\n",
    "    elif (file[4:6] == 'SA') and (file[6] == 'S'): return [0,0,0,0,0,1,0] # sad\n",
    "    elif (file[4:6] == 'SU') and (file[6] == 'S'): return [0,0,0,0,0,0,1] # surprised"
   ]
  },
  {
   "cell_type": "code",
   "execution_count": 3,
   "metadata": {},
   "outputs": [],
   "source": [
    "# load images from dataset and label them\n",
    "datapath = '/Users/joelbradley/Desktop/MachineLearning/project/KDEF_and_AKDEF/KDEF'\n",
    "percentage_of_data = 100 # percentage of images to be used for training\n",
    "test_percentage = 10 # percentage of images to be set aside for testing\n",
    "total_data = int((980*percentage_of_data)/100)\n",
    "finished_loading = False\n",
    "data = []\n",
    "for subdir, dirs, files in os.walk(datapath): # loop through dataset file structure\n",
    "    for file in files:\n",
    "        if total_data <= 0: # finish loading images from dataset\n",
    "            finished_loading = True\n",
    "            break\n",
    "        try:\n",
    "            label = label_img(file) # label the image\n",
    "            if label == None: # move onto next image if current image is not used in model\n",
    "                continue\n",
    "            total_data -= 1\n",
    "            filepath = subdir + os.sep + file\n",
    "            img = cv2.imread(filepath,cv2.IMREAD_GRAYSCALE) # no extra information in color\n",
    "            data.append([np.array(img),np.array(label),file]) # put both the image and label into dataset used for model\n",
    "        except Exception as e: \n",
    "            pass\n",
    "    if finished_loading == True: # finish processing images\n",
    "        break\n",
    "shuffle(data) # mix up data so that order of images doesn't affect model\n",
    "total_test_data = int((len(data)*test_percentage)/100) # split the images into a training set and a testing set\n",
    "testing_data = data[:total_test_data]\n",
    "training_data = data[total_test_data:]"
   ]
  },
  {
   "cell_type": "code",
   "execution_count": 4,
   "metadata": {},
   "outputs": [],
   "source": [
    "# output into pickle files for later model use\n",
    "import pickle\n",
    "pickle_out = open(\"training.pickle\",\"wb\")\n",
    "pickle.dump(training_data, pickle_out)\n",
    "pickle_out.close()\n",
    "\n",
    "pickle_out = open(\"testing.pickle\",\"wb\")\n",
    "pickle.dump(testing_data, pickle_out)\n",
    "pickle_out.close()"
   ]
  },
  {
   "cell_type": "code",
   "execution_count": null,
   "metadata": {},
   "outputs": [],
   "source": []
  }
 ],
 "metadata": {
  "kernelspec": {
   "display_name": "Python 3",
   "language": "python",
   "name": "python3"
  },
  "language_info": {
   "codemirror_mode": {
    "name": "ipython",
    "version": 3
   },
   "file_extension": ".py",
   "mimetype": "text/x-python",
   "name": "python",
   "nbconvert_exporter": "python",
   "pygments_lexer": "ipython3",
   "version": "3.7.1"
  }
 },
 "nbformat": 4,
 "nbformat_minor": 2
}
